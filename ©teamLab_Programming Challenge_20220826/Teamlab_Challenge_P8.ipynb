{
 "cells": [
  {
   "cell_type": "markdown",
   "id": "7e685e26-b15e-4bed-8625-4de512fc3db0",
   "metadata": {},
   "source": [
    "#### Problem.  \n",
    "Use the following characters to create a five-digit word. \n",
    "(It doesn't have to be meaningful, and the used characters can be used again.)\n",
    "{A, B, C, D, E, F, J, K, Q, T, V, W, X, Y, Z}\n",
    "Find the number of strings that satisfy the following conditions.\n",
    "1. A and T cannot enter the second position. (For example, BADXY or QTKVZ is not allowed.)\n",
    "2. E cannot enter the forth position. (For example, BCFEW is not allowed.)\n",
    "3. A, T, and E must be entered at least one. \n"
   ]
  },
  {
   "cell_type": "code",
   "execution_count": 12,
   "id": "dda63b5a-2de4-4bb2-932d-3cb58ab7e9a5",
   "metadata": {},
   "outputs": [],
   "source": [
    "# import libraries\n",
    "import pandas as pd \n",
    "import seaborn as sns\n",
    "import matplotlib.pyplot as plt"
   ]
  },
  {
   "cell_type": "code",
   "execution_count": 2,
   "id": "e63e01ff-80b7-427b-a795-4d587761974d",
   "metadata": {
    "tags": []
   },
   "outputs": [],
   "source": [
    "X = pd.read_csv('strdata.csv')"
   ]
  },
  {
   "cell_type": "code",
   "execution_count": 3,
   "id": "9313beee-0b19-44d4-aeb5-395705a91492",
   "metadata": {},
   "outputs": [
    {
     "name": "stdout",
     "output_type": "stream",
     "text": [
      "<class 'pandas.core.frame.DataFrame'>\n",
      "RangeIndex: 759375 entries, 0 to 759374\n",
      "Data columns (total 5 columns):\n",
      " #   Column  Non-Null Count   Dtype \n",
      "---  ------  --------------   ----- \n",
      " 0   digit1  759375 non-null  object\n",
      " 1   digit2  759375 non-null  object\n",
      " 2   digit3  759375 non-null  object\n",
      " 3   digit4  759375 non-null  object\n",
      " 4   digit5  759375 non-null  object\n",
      "dtypes: object(5)\n",
      "memory usage: 29.0+ MB\n"
     ]
    },
    {
     "data": {
      "text/plain": [
       "759375"
      ]
     },
     "execution_count": 3,
     "metadata": {},
     "output_type": "execute_result"
    }
   ],
   "source": [
    "X.info()\n",
    "len(X)"
   ]
  },
  {
   "cell_type": "code",
   "execution_count": 4,
   "id": "a60fa84e-3a20-4351-b0ab-a395e8489f28",
   "metadata": {},
   "outputs": [],
   "source": [
    "# Condition 1\n",
    "cd1 = X[X['digit2'] != 'A'] # A cannot enter the 2nd position. \n",
    "cd1 = cd1[cd1['digit2'] != 'T'] # T cannot enter the 2nd position. "
   ]
  },
  {
   "cell_type": "code",
   "execution_count": 5,
   "id": "ca00df80-38e0-4597-a1b9-a3465b69e700",
   "metadata": {},
   "outputs": [
    {
     "data": {
      "text/plain": [
       "658125"
      ]
     },
     "execution_count": 5,
     "metadata": {},
     "output_type": "execute_result"
    }
   ],
   "source": [
    "len(cd1)"
   ]
  },
  {
   "cell_type": "code",
   "execution_count": 6,
   "id": "dd57f0aa-e477-4d8d-b84b-17ba38a55192",
   "metadata": {},
   "outputs": [],
   "source": [
    "# Condition 2\n",
    "cd2 = cd1[cd1['digit4'] != 'E']  #E cannot enter the 4th position. "
   ]
  },
  {
   "cell_type": "code",
   "execution_count": 7,
   "id": "b80a5b66-9340-4957-9078-b29ce71587ec",
   "metadata": {},
   "outputs": [
    {
     "data": {
      "text/plain": [
       "614250"
      ]
     },
     "execution_count": 7,
     "metadata": {},
     "output_type": "execute_result"
    }
   ],
   "source": [
    "len(cd2)"
   ]
  },
  {
   "cell_type": "code",
   "execution_count": 8,
   "id": "bd6391da-200f-4a72-9a1a-488e6801a5bb",
   "metadata": {},
   "outputs": [],
   "source": [
    "# for Condition 3\n",
    "cd2.to_csv('input/cd2.csv', index=True, header=True) \n",
    "cd2 = pd.read_csv('input/cd2.csv')\n",
    "cd2[\"strings\"] = cd2['digit1'].map(str)+cd2['digit2'].map(str)+cd2['digit3'].map(str)+cd2['digit4'].map(str)+cd2['digit5'].map(str)"
   ]
  },
  {
   "cell_type": "code",
   "execution_count": 9,
   "id": "914f6fab-b043-4530-8978-6b19f6fb0286",
   "metadata": {},
   "outputs": [],
   "source": [
    "# Condition 3\n",
    "cd3 = cd2[(cd2['strings'].str.contains('A')) & (cd2['strings'].str.contains('E')) & (cd2['strings'].str.contains('T'))]"
   ]
  },
  {
   "cell_type": "code",
   "execution_count": 10,
   "id": "149804eb-f3f4-4e79-9f1d-891835a5a713",
   "metadata": {},
   "outputs": [],
   "source": [
    "cd3.to_csv('input/cd3.csv', index=False, header=True)"
   ]
  },
  {
   "cell_type": "code",
   "execution_count": 11,
   "id": "aa13cfec-5ef2-4fad-b44f-ff1f8fe2b85c",
   "metadata": {},
   "outputs": [
    {
     "data": {
      "text/plain": [
       "5150"
      ]
     },
     "execution_count": 11,
     "metadata": {},
     "output_type": "execute_result"
    }
   ],
   "source": [
    "len(cd3)"
   ]
  }
 ],
 "metadata": {
  "kernelspec": {
   "display_name": "Python 3 (ipykernel)",
   "language": "python",
   "name": "python3"
  },
  "language_info": {
   "codemirror_mode": {
    "name": "ipython",
    "version": 3
   },
   "file_extension": ".py",
   "mimetype": "text/x-python",
   "name": "python",
   "nbconvert_exporter": "python",
   "pygments_lexer": "ipython3",
   "version": "3.9.12"
  }
 },
 "nbformat": 4,
 "nbformat_minor": 5
}
