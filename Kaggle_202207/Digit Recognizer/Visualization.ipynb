{
 "cells": [
  {
   "cell_type": "code",
   "execution_count": 1,
   "id": "888818d5-9ed3-449d-9b7d-4a13101860ad",
   "metadata": {},
   "outputs": [],
   "source": [
    "# import libraries\n",
    "import pandas as pd \n",
    "import seaborn as sns\n",
    "import numpy as np\n",
    "import random as rd\n",
    "from ipycanvas import Canvas"
   ]
  },
  {
   "cell_type": "code",
   "execution_count": 2,
   "id": "25a59f9b",
   "metadata": {},
   "outputs": [],
   "source": [
    "# load data\n",
    "X = pd.read_csv('input/train.csv')\n",
    "y = X.iloc[:,0]"
   ]
  },
  {
   "cell_type": "code",
   "execution_count": 5,
   "id": "28ba4fc0-8147-4e04-a2d7-85eb4d7319ca",
   "metadata": {},
   "outputs": [
    {
     "data": {
      "application/vnd.jupyter.widget-view+json": {
       "model_id": "dc17e374ccf4496ba8aea11f94969223",
       "version_major": 2,
       "version_minor": 0
      },
      "text/plain": [
       "Canvas(height=560, width=560)"
      ]
     },
     "metadata": {},
     "output_type": "display_data"
    }
   ],
   "source": [
    "label_1=X.loc[X['label']==1] # Slicing rows is label 'n'  \n",
    "Visualization(label_1)"
   ]
  },
  {
   "cell_type": "code",
   "execution_count": 4,
   "id": "06f44b60",
   "metadata": {},
   "outputs": [],
   "source": [
    "def Visualization(label_):\n",
    "    n_sample = 100; #The number of sample \n",
    "    label_idx=label_.index; # Extract index of data 'label_'\n",
    "    label_rd = rd.sample(list(label_idx),100); # 100 random samples of label 'n'\n",
    "    label_sp = pd.DataFrame();\n",
    "\n",
    "    for A1 in range (0,n_sample):\n",
    "        label_sp = pd.concat([label_sp, X.iloc[label_rd[A1]]],axis=1).astype(int)\n",
    "    label_sp = label_sp.iloc[1:,:]\n",
    "    label_sp = label_sp.transpose()\n",
    "    label_xy = np.array((label_sp + 31)// 32).astype(int);\n",
    "\n",
    "    reshape_mat = np.array([]);\n",
    "    mat_x = 0;\n",
    "    mat_y = 0;\n",
    "    dot_x1 =  np.array([]);\n",
    "    dot_y1 =  np.array([]);\n",
    "    dot_x2 =  np.array([]);\n",
    "    dot_y2 =  np.array([]);\n",
    "    dot_x3 =  np.array([]);\n",
    "    dot_y3 =  np.array([]);\n",
    "    dot_x4 =  np.array([]);\n",
    "    dot_y4 =  np.array([]);\n",
    "    dot_x5 =  np.array([]);\n",
    "    dot_y5 =  np.array([]);\n",
    "    dot_x6 =  np.array([]);\n",
    "    dot_y6 =  np.array([]);\n",
    "    dot_x7 =  np.array([]);\n",
    "    dot_y7 =  np.array([]);\n",
    "    dot_x8 =  np.array([]);\n",
    "    dot_y8 =  np.array([]);\n",
    "\n",
    "    for A2 in range(0, n_sample):\n",
    "        reshapemat = label_xy[A2,:].reshape((28,28)).transpose()\n",
    "        for A3 in range(0, 28):\n",
    "            for A4 in range(0, 28):\n",
    "                if reshapemat[A3,A4] == 1:\n",
    "                    dot_x1 = np.append(dot_x1, A3+2+mat_x).astype(int)\n",
    "                    dot_y1 = np.append(dot_y1, A4+2+mat_y).astype(int)\n",
    "                elif reshapemat[A3,A4] ==  2:\n",
    "                    dot_x2 = np.append(dot_x2, A3+2+mat_x).astype(int)\n",
    "                    dot_y2 = np.append(dot_y2, A4+2+mat_y).astype(int)\n",
    "                elif reshapemat[A3,A4] ==  3:\n",
    "                    dot_x3 = np.append(dot_x3, A3+2+mat_x).astype(int)\n",
    "                    dot_y3 = np.append(dot_y3, A4+2+mat_y).astype(int)\n",
    "                elif reshapemat[A3,A4] ==  4:\n",
    "                    dot_x4 = np.append(dot_x4, A3+2+mat_x).astype(int)\n",
    "                    dot_y4 = np.append(dot_y4, A4+2+mat_y).astype(int)\n",
    "                elif reshapemat[A3,A4] ==  5:\n",
    "                    dot_x5 = np.append(dot_x5, A3+2+mat_x).astype(int)\n",
    "                    dot_y5 = np.append(dot_y5, A4+2+mat_y).astype(int)\n",
    "                elif reshapemat[A3,A4] ==  6:\n",
    "                    dot_x6 = np.append(dot_x6, A3+2+mat_x).astype(int)\n",
    "                    dot_y6 = np.append(dot_y6, A4+2+mat_y).astype(int)\n",
    "                elif reshapemat[A3,A4] ==  7:\n",
    "                    dot_x7 = np.append(dot_x7, A3+2+mat_x).astype(int)\n",
    "                    dot_y7 = np.append(dot_y7, A4+2+mat_y).astype(int)\n",
    "                elif reshapemat[A3,A4] == 8:\n",
    "                    dot_x8 = np.append(dot_x8, A3+2+mat_x).astype(int)\n",
    "                    dot_y8 = np.append(dot_y8, A4+2+mat_y).astype(int)\n",
    "        mat_x = mat_x + 56\n",
    "        if mat_x % 560 == 0:\n",
    "            mat_x = 0\n",
    "            mat_y = mat_y + 56\n",
    "\n",
    "    canvas = Canvas(width=560, height=560)\n",
    "\n",
    "    canvas.fill_style = \"blue\"\n",
    "\n",
    "    canvas.fill_style = \"#DFDFDF\"\n",
    "    canvas.fill_rects(dot_x1, dot_y1, 2)\n",
    "    canvas.fill_style = \"#BFBFBF\"\n",
    "    canvas.fill_rects(dot_x2, dot_y2, 2)\n",
    "    canvas.fill_style = \"#9F9F9F\"\n",
    "    canvas.fill_rects(dot_x3, dot_y3, 2)\n",
    "    canvas.fill_style = \"#7F7F7F\"\n",
    "    canvas.fill_rects(dot_x4, dot_y4, 2)\n",
    "    canvas.fill_style = \"#5F5F5F\"\n",
    "    canvas.fill_rects(dot_x5, dot_y5, 2)\n",
    "    canvas.fill_style = \"#3F3F3F\"\n",
    "    canvas.fill_rects(dot_x6, dot_y6, 2)\n",
    "    canvas.fill_style = \"#1F1F1F\"\n",
    "    canvas.fill_rects(dot_x7, dot_y7, 2)\n",
    "    canvas.fill_style = \"#000000\"\n",
    "    canvas.fill_rects(dot_x8, dot_y8, 2)\n",
    "\n",
    "    return canvas"
   ]
  },
  {
   "cell_type": "code",
   "execution_count": null,
   "id": "a9d44b7a",
   "metadata": {},
   "outputs": [],
   "source": []
  }
 ],
 "metadata": {
  "kernelspec": {
   "display_name": "Python 3 (ipykernel)",
   "language": "python",
   "name": "python3"
  },
  "language_info": {
   "codemirror_mode": {
    "name": "ipython",
    "version": 3
   },
   "file_extension": ".py",
   "mimetype": "text/x-python",
   "name": "python",
   "nbconvert_exporter": "python",
   "pygments_lexer": "ipython3",
   "version": "3.9.12"
  }
 },
 "nbformat": 4,
 "nbformat_minor": 5
}
