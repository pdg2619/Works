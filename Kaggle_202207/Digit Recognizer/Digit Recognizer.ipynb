{
 "cells": [
  {
   "cell_type": "markdown",
   "id": "e1bd8553-e35e-4684-87d7-774fc116651b",
   "metadata": {},
   "source": [
    "# Digit Recognizer  🔢 🚦"
   ]
  },
  {
   "cell_type": "markdown",
   "id": "726c1ee4-d630-4e32-ad0d-6e74a463a9ff",
   "metadata": {},
   "source": [
    "Reference\n",
    "- Kaggle 'Minimum Distance Classifier' by OLGA CHERNYTSKA : https://www.kaggle.com/code/olhacher/minimum-distance-classifier"
   ]
  },
  {
   "cell_type": "code",
   "execution_count": 3,
   "id": "888818d5-9ed3-449d-9b7d-4a13101860ad",
   "metadata": {},
   "outputs": [],
   "source": [
    "# import libraries\n",
    "import pandas as pd \n",
    "import seaborn as sns\n",
    "import matplotlib.pyplot as plt\n",
    "import numpy as np\n",
    "import random as rd\n",
    "import sklearn\n",
    "from sklearn.model_selection import train_test_split "
   ]
  },
  {
   "cell_type": "code",
   "execution_count": 4,
   "id": "d737667c-1119-45ec-81b8-2ca39173b12b",
   "metadata": {
    "tags": []
   },
   "outputs": [],
   "source": [
    "# load data\n",
    "X = pd.read_csv('input/train.csv')\n",
    "y = X.iloc[:,0]"
   ]
  },
  {
   "cell_type": "markdown",
   "id": "668356f5-7069-49bd-b9b3-c30ce08223e8",
   "metadata": {
    "jp-MarkdownHeadingCollapsed": true,
    "tags": []
   },
   "source": [
    "#### (Visualization)"
   ]
  },
  {
   "cell_type": "code",
   "execution_count": 24,
   "id": "0d546f65-8838-4c3d-a882-3e57e2739cbe",
   "metadata": {},
   "outputs": [],
   "source": [
    "label_1=digit_train.loc[digit_train['label']==1] # Slicing rows is label '1' \n",
    "label_1idx=label_1.index # Extract index of data 'label_1'"
   ]
  },
  {
   "cell_type": "code",
   "execution_count": 52,
   "id": "e5171e9b-4b6b-4e24-ba95-2825e7302a9a",
   "metadata": {
    "tags": []
   },
   "outputs": [],
   "source": [
    "rd.seed(71)\n",
    "data = rd.sample(list(label_1idx),100) # 100 random samples of label '1'\n",
    "#par(mfrow=c(10,10),mar=c(0.1,0.1,0.1,0.1))"
   ]
  },
  {
   "cell_type": "code",
   "execution_count": 46,
   "id": "4617cf02-5da6-43df-b1e6-98b14a19bd72",
   "metadata": {
    "tags": []
   },
   "outputs": [
    {
     "data": {
      "text/plain": [
       "label       1\n",
       "pixel0      0\n",
       "pixel1      0\n",
       "pixel2      0\n",
       "pixel3      0\n",
       "           ..\n",
       "pixel779    0\n",
       "pixel780    0\n",
       "pixel781    0\n",
       "pixel782    0\n",
       "pixel783    0\n",
       "Name: 14548, Length: 785, dtype: int64"
      ]
     },
     "execution_count": 46,
     "metadata": {},
     "output_type": "execute_result"
    }
   ],
   "source": [
    "digit_train.iloc[data[5], :]"
   ]
  },
  {
   "cell_type": "code",
   "execution_count": 50,
   "id": "8ff9d416-05e6-45aa-9827-d17d93420968",
   "metadata": {},
   "outputs": [
    {
     "ename": "IndexError",
     "evalue": "list assignment index out of range",
     "output_type": "error",
     "traceback": [
      "\u001b[1;31m---------------------------------------------------------------------------\u001b[0m",
      "\u001b[1;31mIndexError\u001b[0m                                Traceback (most recent call last)",
      "Input \u001b[1;32mIn [50]\u001b[0m, in \u001b[0;36m<cell line: 1>\u001b[1;34m()\u001b[0m\n\u001b[0;32m      2\u001b[0m row \u001b[38;5;241m=\u001b[39m [];\n\u001b[0;32m      3\u001b[0m \u001b[38;5;28;01mfor\u001b[39;00m n \u001b[38;5;129;01min\u001b[39;00m \u001b[38;5;28mrange\u001b[39m (\u001b[38;5;241m2\u001b[39m,\u001b[38;5;241m785\u001b[39m): \n\u001b[1;32m----> 4\u001b[0m     row[n\u001b[38;5;241m-\u001b[39m\u001b[38;5;241m1\u001b[39m] \u001b[38;5;241m=\u001b[39m digit_train\u001b[38;5;241m.\u001b[39miloc[k,n]\n\u001b[0;32m      6\u001b[0m matrix1 \u001b[38;5;241m=\u001b[39m matrix(row,\u001b[38;5;241m28\u001b[39m,\u001b[38;5;241m28\u001b[39m,byrow\u001b[38;5;241m=\u001b[39mFALSE)\n\u001b[0;32m      7\u001b[0m matrix2 \u001b[38;5;241m=\u001b[39m matrix(rep(\u001b[38;5;241m0\u001b[39m,\u001b[38;5;241m784\u001b[39m),\u001b[38;5;241m28\u001b[39m,\u001b[38;5;241m28\u001b[39m)\n",
      "\u001b[1;31mIndexError\u001b[0m: list assignment index out of range"
     ]
    }
   ],
   "source": [
    "for k in range (0,len(data)) :\n",
    "    row = [];\n",
    "    for n in range (2,785): \n",
    "        row[n-1] = digit_train.iloc[k,n]\n",
    "    \n",
    "    matrix1 = matrix(row,28,28,byrow=FALSE)\n",
    "    matrix2 = matrix(rep(0,784),28,28)\n",
    "    \n",
    "    for i in range (1,28):\n",
    "        for j in range (1,28):\n",
    "            matrix2[i,28-j+1] = matrix1[i,j]\n",
    "    if (k==26611):\n",
    "        image(matrix2, axes=FALSE, col=heat.colors(12))\n",
    "    else:\n",
    "        image(matrix2, axes=FALSE, col=topo.colors(12))\n",
    "\n",
    "rm(i,n,j,k,row,matrix1,matrix2)"
   ]
  },
  {
   "cell_type": "markdown",
   "id": "6586c110-74c6-43a0-b279-02a0b1216333",
   "metadata": {},
   "source": [
    "#### Split Data"
   ]
  },
  {
   "cell_type": "code",
   "execution_count": 5,
   "id": "adbc16de-3f58-43e6-913b-e3d671a4c4b7",
   "metadata": {},
   "outputs": [],
   "source": [
    "ratio = 25 # Split ratio(Test Sets Ratio)[%]\n",
    "ratio = ratio/100"
   ]
  },
  {
   "cell_type": "code",
   "execution_count": 6,
   "id": "ec2056c3-c82c-43b0-94bd-c57be166bb67",
   "metadata": {},
   "outputs": [],
   "source": [
    "X_train, X_test, y_train, y_test = train_test_split(X, y, test_size = ratio, shuffle=True, random_state=99)"
   ]
  },
  {
   "cell_type": "code",
   "execution_count": 27,
   "id": "0119faf7-b543-4034-9a2a-8867f9cef1cf",
   "metadata": {},
   "outputs": [
    {
     "name": "stdout",
     "output_type": "stream",
     "text": [
      "0    3104\n",
      "1    3498\n",
      "2    3108\n",
      "3    3230\n",
      "4    3085\n",
      "5    2871\n",
      "6    3086\n",
      "7    3326\n",
      "8    3077\n",
      "9    3115\n",
      "Name: label, dtype: int64\n",
      "31500\n",
      "0    1028\n",
      "1    1186\n",
      "2    1069\n",
      "3    1121\n",
      "4     987\n",
      "5     924\n",
      "6    1051\n",
      "7    1075\n",
      "8     986\n",
      "9    1073\n",
      "Name: label, dtype: int64\n",
      "10500\n"
     ]
    }
   ],
   "source": [
    "print(y_train.value_counts().sort_index())\n",
    "print(y_train.count())\n",
    "print(y_test.value_counts().sort_index())\n",
    "print(y_test.count())"
   ]
  }
 ],
 "metadata": {
  "kernelspec": {
   "display_name": "Python 3 (ipykernel)",
   "language": "python",
   "name": "python3"
  },
  "language_info": {
   "codemirror_mode": {
    "name": "ipython",
    "version": 3
   },
   "file_extension": ".py",
   "mimetype": "text/x-python",
   "name": "python",
   "nbconvert_exporter": "python",
   "pygments_lexer": "ipython3",
   "version": "3.9.12"
  }
 },
 "nbformat": 4,
 "nbformat_minor": 5
}
