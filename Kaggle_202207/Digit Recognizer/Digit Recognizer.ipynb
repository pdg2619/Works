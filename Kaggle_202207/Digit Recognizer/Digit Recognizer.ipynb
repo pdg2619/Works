{
 "cells": [
  {
   "cell_type": "markdown",
   "id": "b6c17570-af3b-47ed-b623-1f20aa8a1ad6",
   "metadata": {},
   "source": [
    "Digit Recognizer 🚦 🎱\n",
    "====="
   ]
  },
  {
   "cell_type": "markdown",
   "id": "726c1ee4-d630-4e32-ad0d-6e74a463a9ff",
   "metadata": {},
   "source": [
    "Reference\n",
    "- Kaggle 'Minimum Distance Classifier' by OLGA CHERNYTSKA : https://www.kaggle.com/code/olhacher/minimum-distance-classifier"
   ]
  },
  {
   "cell_type": "code",
   "execution_count": 93,
   "id": "888818d5-9ed3-449d-9b7d-4a13101860ad",
   "metadata": {},
   "outputs": [],
   "source": [
    "# import libraries\n",
    "import pandas as pd \n",
    "import seaborn as sns\n",
    "import matplotlib.pyplot as plt\n",
    "import numpy as np\n",
    "import random as rd\n",
    "import sklearn\n",
    "import sklearn.cluster\n",
    "from sklearn.model_selection import train_test_split\n",
    "from ipycanvas import Canvas\n",
    "\n",
    "from Visualization import *"
   ]
  },
  {
   "cell_type": "code",
   "execution_count": 65,
   "id": "d737667c-1119-45ec-81b8-2ca39173b12b",
   "metadata": {
    "tags": []
   },
   "outputs": [],
   "source": [
    "# load data\n",
    "X = pd.read_csv('input/train.csv')\n",
    "y = X.iloc[:,0]"
   ]
  },
  {
   "cell_type": "markdown",
   "id": "668356f5-7069-49bd-b9b3-c30ce08223e8",
   "metadata": {
    "tags": []
   },
   "source": [
    "# Visualization"
   ]
  },
  {
   "cell_type": "code",
   "execution_count": 69,
   "id": "0d546f65-8838-4c3d-a882-3e57e2739cbe",
   "metadata": {},
   "outputs": [],
   "source": [
    "label_1=X.loc[X['label']==1] # Slicing rows is label '1' \n",
    "label_1idx=label_1.index # Extract index of data 'label_1'"
   ]
  },
  {
   "cell_type": "code",
   "execution_count": 109,
   "id": "e5171e9b-4b6b-4e24-ba95-2825e7302a9a",
   "metadata": {
    "tags": []
   },
   "outputs": [
    {
     "data": {
      "application/vnd.jupyter.widget-view+json": {
       "model_id": "a7bca1c7a52747b9b07ccc683b2a3e35",
       "version_major": 2,
       "version_minor": 0
      },
      "text/plain": [
       "Canvas(height=560, width=560)"
      ]
     },
     "metadata": {},
     "output_type": "display_data"
    }
   ],
   "source": [
    "rdsample = pd.DataFrame([])\n",
    "rdsample_list = rd.sample(list(label_1idx),100) # 100 random samples of label '1'\n",
    "rdsample = X.iloc[rdsample_list,:]\n",
    "Visualization(X, rdsample)"
   ]
  },
  {
   "cell_type": "markdown",
   "id": "6586c110-74c6-43a0-b279-02a0b1216333",
   "metadata": {},
   "source": [
    "# Split Data"
   ]
  },
  {
   "cell_type": "code",
   "execution_count": 72,
   "id": "adbc16de-3f58-43e6-913b-e3d671a4c4b7",
   "metadata": {},
   "outputs": [],
   "source": [
    "ratio = 25 # Split ratio(Test Sets Ratio)[%]\n",
    "ratio = ratio/100"
   ]
  },
  {
   "cell_type": "code",
   "execution_count": 73,
   "id": "ec2056c3-c82c-43b0-94bd-c57be166bb67",
   "metadata": {},
   "outputs": [],
   "source": [
    "X_train, X_test, y_train, y_test = train_test_split(X, y, test_size = ratio, shuffle=True, random_state=99)"
   ]
  },
  {
   "cell_type": "code",
   "execution_count": 60,
   "id": "0119faf7-b543-4034-9a2a-8867f9cef1cf",
   "metadata": {
    "tags": []
   },
   "outputs": [
    {
     "name": "stdout",
     "output_type": "stream",
     "text": [
      "0    3104\n",
      "1    3498\n",
      "2    3108\n",
      "3    3230\n",
      "4    3085\n",
      "5    2871\n",
      "6    3086\n",
      "7    3326\n",
      "8    3077\n",
      "9    3115\n",
      "Name: label, dtype: int64\n",
      "31500\n",
      "0    1028\n",
      "1    1186\n",
      "2    1069\n",
      "3    1121\n",
      "4     987\n",
      "5     924\n",
      "6    1051\n",
      "7    1075\n",
      "8     986\n",
      "9    1073\n",
      "Name: label, dtype: int64\n",
      "10500\n"
     ]
    }
   ],
   "source": [
    "print(y_train.value_counts().sort_index())\n",
    "print(y_train.count())\n",
    "print(y_test.value_counts().sort_index())\n",
    "print(y_test.count())"
   ]
  },
  {
   "cell_type": "markdown",
   "id": "ce6eb8d1-da53-4f75-879c-d4fff2446de1",
   "metadata": {},
   "source": [
    "# Decreasing Size of Train Set"
   ]
  },
  {
   "cell_type": "code",
   "execution_count": 85,
   "id": "7306c9ce-aab0-4cfb-a463-2f760e1430f1",
   "metadata": {},
   "outputs": [
    {
     "name": "stdout",
     "output_type": "stream",
     "text": [
      "0    50\n",
      "1    50\n",
      "2    50\n",
      "3    50\n",
      "4    50\n",
      "5    50\n",
      "6    50\n",
      "7    50\n",
      "8    50\n",
      "9    50\n",
      "Name: 0, dtype: int64\n"
     ]
    }
   ],
   "source": [
    "digit = pd.DataFrame();\n",
    "new_data = pd.DataFrame();\n",
    "for i in range(0,10):\n",
    "    digit = X.loc[X['label']==i]\n",
    "    kmeans = sklearn.cluster.KMeans(n_clusters=50, init='k-means++',n_init=1, max_iter = 20).fit(digit)\n",
    "    new_data = pd.concat([new_data,pd.DataFrame(kmeans.cluster_centers_).astype(int)]).reset_index(drop=True)\n",
    "X_t = new_data.iloc[:,1:]\n",
    "y_t = new_data.iloc[:,0]\n",
    "print(y_t.value_counts())"
   ]
  },
  {
   "cell_type": "code",
   "execution_count": 90,
   "id": "c946cc15-52e2-4f27-a534-5272f95086a1",
   "metadata": {},
   "outputs": [
    {
     "data": {
      "application/vnd.jupyter.widget-view+json": {
       "model_id": "4dbbc054534849289bd575f8fc730188",
       "version_major": 2,
       "version_minor": 0
      },
      "text/plain": [
       "Canvas(height=560, width=560)"
      ]
     },
     "metadata": {},
     "output_type": "display_data"
    }
   ],
   "source": [
    "rdsample = pd.DataFrame([])\n",
    "rdsample_list = rd.sample(list(X_t),100) # 100 random samples of label '1'\n",
    "rdsample = X.iloc[rdsample_list,:]\n",
    "Visualization(X, rdsample)"
   ]
  },
  {
   "cell_type": "markdown",
   "id": "a23cc60d-019e-4954-afd7-f39551faa1eb",
   "metadata": {},
   "source": [
    "# Prediction"
   ]
  },
  {
   "cell_type": "markdown",
   "id": "f5a1ff10-39fd-4bee-a7a7-39ad3511c4f4",
   "metadata": {},
   "source": [
    "## Test Set"
   ]
  },
  {
   "cell_type": "code",
   "execution_count": 572,
   "id": "3fe8f601-15f0-47be-a008-b60774a9b921",
   "metadata": {},
   "outputs": [],
   "source": [
    "# Attempt to DataFrame : can Not use it\n",
    "# d = pd.DataFrame();\n",
    "# d_sum = pd.DataFrame();\n",
    "# distances = pd.DataFrame();\n",
    "# m = len(X_t);\n",
    "# n = len(X_test);\n",
    "# p_max = int(n / 500); # Max rows of Dataframe in Jypyterlab : 500\n",
    "# range_op = 0; # for j range\n",
    "# for j range\n",
    "# for p in range(0,1): # 1 <- p_max\n",
    "#    range_op1 = 500 * p\n",
    "#    range_op2 = 500 * (p+1)\n",
    "\n",
    "# for j in range(range_op1,range_op2):\n",
    "#        d = (X_t.iloc[k,:] - X_test.iloc[j,1:])*(X_t.iloc[k,:] - X_test.iloc[j,1:])\n",
    "#    d_sum = pd.DataFrame(d.sum(axis=1))\n",
    "#    d_sum = d_sum.transpose()\n",
    "#    distances = distances.append(pd.DataFrame(d_sum).astype(int), ignore_index=True)\n",
    "# d.to_csv('TestData\\d')\n",
    "# d_sum.to_csv('TestData/d_sum')\n",
    "# distances.to_csv('TestData/distances')"
   ]
  },
  {
   "cell_type": "code",
   "execution_count": 588,
   "id": "d5e6addb-c078-4d78-97fe-cd463ce11635",
   "metadata": {},
   "outputs": [
    {
     "name": "stdout",
     "output_type": "stream",
     "text": [
      "Complete.\n"
     ]
    }
   ],
   "source": [
    "distances = np.array([]);\n",
    "m = len(X_t)\n",
    "n = len(X_test)\n",
    "minidx = np.array([]);\n",
    "p_max = int(n / 500);\n",
    "range_op = 0; # for j range\n",
    "# for j range\n",
    "for p in range(0,p_max): # 1 <- p_max\n",
    "    range_op1 = 500 * p\n",
    "    range_op2 = 500 * (p+1)\n",
    "    # Calculating distances\n",
    "    for j in range(range_op1, range_op2): \n",
    "        replica = [X_test.iloc[j,1:] for k in range(0,m)]\n",
    "        replica = np.array(replica)\n",
    "        d = (X_t - replica)*(X_t - replica)\n",
    "        d_sum = d.sum(axis=1)\n",
    "        minidx = np.append(minidx, np.argmin(d_sum)).astype(int)\n",
    "        distances = np.append(distances,d_sum,axis=0).astype(int)\n",
    "\n",
    "print('Complete.')       "
   ]
  },
  {
   "cell_type": "code",
   "execution_count": 589,
   "id": "d4e7af76-bf47-4544-8ed1-1f023c915547",
   "metadata": {
    "tags": []
   },
   "outputs": [
    {
     "name": "stdout",
     "output_type": "stream",
     "text": [
      "accuracy(test_set):96.25%\n"
     ]
    }
   ],
   "source": [
    "result_test = minidx // 50\n",
    "zero_counts_test1 = result_test - y_test\n",
    "zero_counts_test2 = len(zero_counts_test1[zero_counts_test1==0])\n",
    "accuracy_test = (zero_counts_test2 / len(X_test)) * 100\n",
    "print('accuracy(test_set):{:.2f}%'.format(accuracy_test))"
   ]
  },
  {
   "cell_type": "markdown",
   "id": "68d48d85-fc7e-40e5-9492-8d41394a1ab8",
   "metadata": {},
   "source": [
    "## Train Set"
   ]
  },
  {
   "cell_type": "code",
   "execution_count": 590,
   "id": "af01f58f-4cbe-46f1-89f4-ad472477931c",
   "metadata": {},
   "outputs": [
    {
     "name": "stdout",
     "output_type": "stream",
     "text": [
      "Complete.\n"
     ]
    }
   ],
   "source": [
    "distances = np.array([]);\n",
    "m = len(X_t)\n",
    "n = len(X_train)\n",
    "minidx = np.array([]);\n",
    "p_max = int(n / 500);\n",
    "range_op = 0; # for j range\n",
    "# for j range\n",
    "for p in range(0,p_max): # 1 <- p_max\n",
    "    range_op1 = 500 * p\n",
    "    range_op2 = 500 * (p+1)\n",
    "    # Calculating distances\n",
    "    for j in range(range_op1, range_op2): \n",
    "        replica = [X_train.iloc[j,1:] for k in range(0,m)]\n",
    "        replica = np.array(replica)\n",
    "        d = (X_t - replica)*(X_t - replica)\n",
    "        d_sum = d.sum(axis=1)\n",
    "        minidx = np.append(minidx, np.argmin(d_sum)).astype(int)\n",
    "        distances = np.append(distances,d_sum,axis=0).astype(int)\n",
    "\n",
    "print('Complete.')       "
   ]
  },
  {
   "cell_type": "code",
   "execution_count": 594,
   "id": "39cc57c7-37ed-4d48-a0cd-edf2b2fafae1",
   "metadata": {},
   "outputs": [
    {
     "name": "stdout",
     "output_type": "stream",
     "text": [
      "accuracy(train_set):96.32%\n"
     ]
    }
   ],
   "source": [
    "result_test = minidx // 50\n",
    "zero_counts_train1 = result_test - y_train\n",
    "zero_counts_train2 = len(zero_counts_train1[zero_counts_train1==0])\n",
    "accuracy_test = (zero_counts_train2 / len(X_train)) * 100\n",
    "print('accuracy(train_set):{:.2f}%'.format(accuracy_test))"
   ]
  }
 ],
 "metadata": {
  "kernelspec": {
   "display_name": "Python 3 (ipykernel)",
   "language": "python",
   "name": "python3"
  },
  "language_info": {
   "codemirror_mode": {
    "name": "ipython",
    "version": 3
   },
   "file_extension": ".py",
   "mimetype": "text/x-python",
   "name": "python",
   "nbconvert_exporter": "python",
   "pygments_lexer": "ipython3",
   "version": "3.9.12"
  },
  "toc-showmarkdowntxt": false,
  "toc-showtags": false
 },
 "nbformat": 4,
 "nbformat_minor": 5
}
