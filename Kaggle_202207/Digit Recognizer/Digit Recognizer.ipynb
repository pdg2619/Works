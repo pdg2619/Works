{
 "cells": [
  {
   "cell_type": "markdown",
   "id": "e1bd8553-e35e-4684-87d7-774fc116651b",
   "metadata": {},
   "source": [
    "# Digit Recognizer  🔢 🚦"
   ]
  },
  {
   "cell_type": "markdown",
   "id": "726c1ee4-d630-4e32-ad0d-6e74a463a9ff",
   "metadata": {},
   "source": [
    "Reference\n",
    "- Kaggle 'Minimum Distance Classifier' by OLGA CHERNYTSKA : https://www.kaggle.com/code/olhacher/minimum-distance-classifier"
   ]
  },
  {
   "cell_type": "code",
   "execution_count": 22,
   "id": "888818d5-9ed3-449d-9b7d-4a13101860ad",
   "metadata": {},
   "outputs": [],
   "source": [
    "# import libraries\n",
    "import pandas as pd \n",
    "import seaborn as sns\n",
    "import matplotlib.pyplot as plt\n",
    "import numpy as np\n",
    "import random as rd"
   ]
  },
  {
   "cell_type": "code",
   "execution_count": 24,
   "id": "d737667c-1119-45ec-81b8-2ca39173b12b",
   "metadata": {
    "tags": []
   },
   "outputs": [],
   "source": [
    "# load data\n",
    "digit_train = pd.read_csv('input/train.csv')"
   ]
  },
  {
   "cell_type": "markdown",
   "id": "668356f5-7069-49bd-b9b3-c30ce08223e8",
   "metadata": {},
   "source": [
    "#### Visualization"
   ]
  },
  {
   "cell_type": "code",
   "execution_count": 35,
   "id": "e5171e9b-4b6b-4e24-ba95-2825e7302a9a",
   "metadata": {
    "tags": []
   },
   "outputs": [],
   "source": [
    "rd.seed(71)\n",
    "data = rd.sample(list(digit_train[digit_train['label']==1]),100) # 100 random samples of label '1'\n",
    "#par(mfrow=c(10,10),mar=c(0.1,0.1,0.1,0.1))"
   ]
  },
  {
   "cell_type": "code",
   "execution_count": null,
   "id": "8ff9d416-05e6-45aa-9827-d17d93420968",
   "metadata": {},
   "outputs": [],
   "source": [
    "for i in data:\n",
    "    row = None\n",
    "    for j in 2:785"
   ]
  }
 ],
 "metadata": {
  "kernelspec": {
   "display_name": "Python 3 (ipykernel)",
   "language": "python",
   "name": "python3"
  },
  "language_info": {
   "codemirror_mode": {
    "name": "ipython",
    "version": 3
   },
   "file_extension": ".py",
   "mimetype": "text/x-python",
   "name": "python",
   "nbconvert_exporter": "python",
   "pygments_lexer": "ipython3",
   "version": "3.9.12"
  }
 },
 "nbformat": 4,
 "nbformat_minor": 5
}
