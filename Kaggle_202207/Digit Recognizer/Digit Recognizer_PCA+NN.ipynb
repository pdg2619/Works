{
 "cells": [
  {
   "cell_type": "markdown",
   "id": "b6c17570-af3b-47ed-b623-1f20aa8a1ad6",
   "metadata": {},
   "source": [
    "*Digit Recognizer* 🚦 🎱\n",
    "====="
   ]
  },
  {
   "cell_type": "markdown",
   "id": "726c1ee4-d630-4e32-ad0d-6e74a463a9ff",
   "metadata": {},
   "source": [
    "Reference\n",
    "- Kaggle'PCA decomposition and Keras neural network' by PIOTR MILEWSKI : https://www.kaggle.com/code/pmmilewski/pca-decomposition-and-keras-neural-network"
   ]
  },
  {
   "cell_type": "markdown",
   "id": "219b8c44-d835-48ec-8cd4-8e814592b0ed",
   "metadata": {},
   "source": [
    "# PCA + Neural Network"
   ]
  },
  {
   "cell_type": "code",
   "execution_count": 17,
   "id": "888818d5-9ed3-449d-9b7d-4a13101860ad",
   "metadata": {},
   "outputs": [],
   "source": [
    "# import libraries\n",
    "import pandas as pd \n",
    "import seaborn as sns\n",
    "import matplotlib\n",
    "import matplotlib.pyplot as plt\n",
    "import numpy as np\n",
    "import sklearn\n",
    "import sklearn.cluster\n",
    "from sklearn.model_selection import train_test_split\n",
    "from sklearn.preprocessing import StandardScaler, Normalizer\n",
    "import tensorflow as tf\n",
    "from tensorflow.keras import datasets, layers, models\n",
    "from tensorflow.keras.utils import to_categorical, plot_model"
   ]
  },
  {
   "cell_type": "code",
   "execution_count": 18,
   "id": "d737667c-1119-45ec-81b8-2ca39173b12b",
   "metadata": {
    "tags": []
   },
   "outputs": [],
   "source": [
    "# load data\n",
    "X = pd.read_csv('input/train.csv')\n",
    "y = X.iloc[:,0]"
   ]
  },
  {
   "cell_type": "markdown",
   "id": "6586c110-74c6-43a0-b279-02a0b1216333",
   "metadata": {},
   "source": [
    "## Split Data"
   ]
  },
  {
   "cell_type": "code",
   "execution_count": 19,
   "id": "adbc16de-3f58-43e6-913b-e3d671a4c4b7",
   "metadata": {},
   "outputs": [],
   "source": [
    "ratio = 25 # Split ratio(Test Sets Ratio)[%]\n",
    "ratio = ratio/100"
   ]
  },
  {
   "cell_type": "code",
   "execution_count": 20,
   "id": "ec2056c3-c82c-43b0-94bd-c57be166bb67",
   "metadata": {},
   "outputs": [],
   "source": [
    "X_train, X_test, y_train, y_test = train_test_split(X, y, test_size = ratio, shuffle=True, random_state=99)"
   ]
  },
  {
   "cell_type": "code",
   "execution_count": 21,
   "id": "0119faf7-b543-4034-9a2a-8867f9cef1cf",
   "metadata": {
    "tags": []
   },
   "outputs": [
    {
     "name": "stdout",
     "output_type": "stream",
     "text": [
      "0    3104\n",
      "1    3498\n",
      "2    3108\n",
      "3    3230\n",
      "4    3085\n",
      "5    2871\n",
      "6    3086\n",
      "7    3326\n",
      "8    3077\n",
      "9    3115\n",
      "Name: label, dtype: int64\n",
      "31500\n",
      "0    1028\n",
      "1    1186\n",
      "2    1069\n",
      "3    1121\n",
      "4     987\n",
      "5     924\n",
      "6    1051\n",
      "7    1075\n",
      "8     986\n",
      "9    1073\n",
      "Name: label, dtype: int64\n",
      "10500\n"
     ]
    }
   ],
   "source": [
    "print(y_train.value_counts().sort_index())\n",
    "print(y_train.count())\n",
    "train_No = y_train.count()\n",
    "print(y_test.value_counts().sort_index())\n",
    "print(y_test.count())\n",
    "test_No = y_test.count()"
   ]
  },
  {
   "cell_type": "markdown",
   "id": "382c0ab9-8edb-4452-baa5-fc78e5bc4f5a",
   "metadata": {},
   "source": [
    "## PCA"
   ]
  },
  {
   "cell_type": "code",
   "execution_count": 22,
   "id": "c0208dc6-a40f-463a-aa3a-6d9694b8ad8a",
   "metadata": {},
   "outputs": [],
   "source": [
    "# Scaling\n",
    "scaler = sklearn.preprocessing.StandardScaler()\n",
    "scaler.fit(X_train.iloc[:,1:])\n",
    "X_sc_train = scaler.transform(X_train.iloc[:,1:])\n",
    "X_sc_test = scaler.transform(X_test.iloc[:,1:])\n",
    "\n",
    "Y_train = to_categorical(y_train)\n",
    "Y_test = to_categorical(y_test)"
   ]
  },
  {
   "cell_type": "code",
   "execution_count": null,
   "id": "d2b6ed44-a25c-48f3-a783-48b316f6121e",
   "metadata": {},
   "outputs": [
    {
     "name": "stdout",
     "output_type": "stream",
     "text": [
      "Wall time: 6.68 s\n"
     ]
    },
    {
     "data": {
      "text/plain": [
       "Text(0, 0.5, 'Cumulative explained variance')"
      ]
     },
     "execution_count": 8,
     "metadata": {},
     "output_type": "execute_result"
    },
    {
     "data": {
      "image/png": "[encoded data removed]",
      "text/plain": [
       "<Figure size 640x480 with 1 Axes>"
      ]
     },
     "metadata": {},
     "output_type": "display_data"
    }
   ],
   "source": [
    "%%time\n",
    "#for selecting number of components\n",
    "pca = sklearn.decomposition.PCA(n_components=500)\n",
    "pca.fit(X_train.iloc[:,1:])\n",
    "\n",
    "plt.plot(np.cumsum(pca.explained_variance_ratio_))\n",
    "plt.xlabel('Number of components')\n",
    "plt.ylabel('Cumulative explained variance')"
   ]
  },
  {
   "cell_type": "code",
   "execution_count": 9,
   "id": "a922f472-438e-4169-8749-047763ff32b9",
   "metadata": {},
   "outputs": [
    {
     "name": "stdout",
     "output_type": "stream",
     "text": [
      "Wall time: 6.6 s\n"
     ]
    }
   ],
   "source": [
    "%%time\n",
    "NCOMPONENTS = 500\n",
    "\n",
    "pca = sklearn.decomposition.PCA(n_components=NCOMPONENTS)\n",
    "X_pca_train = pca.fit_transform(X_sc_train)\n",
    "X_pca_test = pca.transform(X_sc_test)\n",
    "pca_std = np.std(X_pca_train)"
   ]
  },
  {
   "cell_type": "code",
   "execution_count": 27,
   "id": "5e1e1068-1113-49a5-b539-984c353148f5",
   "metadata": {},
   "outputs": [],
   "source": [
    "inv_pca = pca.inverse_transform(X_pca_train)\n",
    "inv_sc = scaler.inverse_transform(inv_pca)\n",
    "inv_nr = sklearn.preprocessing.normalize(inv_pca)\n",
    "inv_pca2 = pca.inverse_transform(X_pca_test)\n",
    "inv_sc2 = scaler.inverse_transform(inv_pca2)\n",
    "inv_nr2 = sklearn.preprocessing.normalize(inv_pca2)"
   ]
  },
  {
   "cell_type": "markdown",
   "id": "c12823d2-2f3d-4ffd-aa1a-2a41dff27dc5",
   "metadata": {},
   "source": [
    "## Neural Network"
   ]
  },
  {
   "cell_type": "markdown",
   "id": "21e728ff-5efc-4666-a1a8-1492daeae6f4",
   "metadata": {
    "tags": []
   },
   "source": [
    "### None-scale"
   ]
  },
  {
   "cell_type": "code",
   "execution_count": 11,
   "id": "0cfa8c12-5a42-4ce2-ad3b-9a8717320475",
   "metadata": {},
   "outputs": [],
   "source": [
    "train_images = inv_pca.reshape((train_No, 28, 28, 1))\n",
    "test_images = inv_pca2.reshape((test_No, 28, 28, 1))"
   ]
  },
  {
   "cell_type": "code",
   "execution_count": 12,
   "id": "98f0e50b-3751-4c8b-8275-2c1e6dcaa165",
   "metadata": {},
   "outputs": [
    {
     "name": "stdout",
     "output_type": "stream",
     "text": [
      "Model: \"sequential\"\n",
      "_________________________________________________________________\n",
      " Layer (type)                Output Shape              Param #   \n",
      "=================================================================\n",
      " conv2d (Conv2D)             (None, 24, 24, 10)        260       \n",
      "                                                                 \n",
      " max_pooling2d (MaxPooling2D  (None, 12, 12, 10)       0         \n",
      " )                                                               \n",
      "                                                                 \n",
      " conv2d_1 (Conv2D)           (None, 8, 8, 20)          5020      \n",
      "                                                                 \n",
      " max_pooling2d_1 (MaxPooling  (None, 4, 4, 20)         0         \n",
      " 2D)                                                             \n",
      "                                                                 \n",
      " dropout (Dropout)           (None, 4, 4, 20)          0         \n",
      "                                                                 \n",
      " flatten (Flatten)           (None, 320)               0         \n",
      "                                                                 \n",
      " dense (Dense)               (None, 100)               32100     \n",
      "                                                                 \n",
      " dense_1 (Dense)             (None, 10)                1010      \n",
      "                                                                 \n",
      "=================================================================\n",
      "Total params: 38,390\n",
      "Trainable params: 38,390\n",
      "Non-trainable params: 0\n",
      "_________________________________________________________________\n",
      "Epoch 1/5\n",
      "985/985 [==============================] - 6s 5ms/step - loss: 0.2798 - accuracy: 0.9127\n",
      "Epoch 2/5\n",
      "985/985 [==============================] - 5s 5ms/step - loss: 0.0944 - accuracy: 0.9704\n",
      "Epoch 3/5\n",
      "985/985 [==============================] - 4s 4ms/step - loss: 0.0700 - accuracy: 0.9770\n",
      "Epoch 4/5\n",
      "985/985 [==============================] - 4s 4ms/step - loss: 0.0558 - accuracy: 0.9818\n",
      "Epoch 5/5\n",
      "985/985 [==============================] - 5s 5ms/step - loss: 0.0519 - accuracy: 0.9828\n",
      "329/329 - 1s - loss: 0.0536 - accuracy: 0.9833 - 609ms/epoch - 2ms/step\n",
      "\n",
      "Test accuracy: 98.3%\n"
     ]
    }
   ],
   "source": [
    "model_2 = models.Sequential()\n",
    "model_2.add(layers.Conv2D(10, (5, 5), activation='relu', input_shape=(28, 28, 1)))\n",
    "model_2.add(layers.MaxPooling2D((2, 2)))\n",
    "model_2.add(layers.Conv2D(20, (5, 5), activation='relu'))\n",
    "model_2.add(layers.MaxPooling2D((2, 2)))\n",
    "model_2.add(layers.Dropout(0.25))\n",
    " \n",
    "model_2.add(layers.Flatten())\n",
    "model_2.add(layers.Dense(100, activation='relu'))\n",
    "model_2.add(layers.Dense(10, activation='softmax'))\n",
    "model_2.summary()\n",
    " \n",
    "model_2.compile(optimizer='adam',\n",
    "              loss='sparse_categorical_crossentropy',\n",
    "              metrics=['accuracy'])\n",
    " \n",
    "model_2.fit(train_images, y_train, epochs=5)\n",
    "test_loss, test_acc = model_2.evaluate(test_images, y_test, verbose=2)\n",
    "print(\"\\nTest accuracy: %.1f%%\" % (100.0 * test_acc))"
   ]
  },
  {
   "cell_type": "markdown",
   "id": "15939236-5dd6-4e7b-80bf-9e65d6eac757",
   "metadata": {},
   "source": [
    "### Standard scaler"
   ]
  },
  {
   "cell_type": "code",
   "execution_count": 13,
   "id": "fbb2c6b0-103d-4065-821d-1e1fa7d3746b",
   "metadata": {},
   "outputs": [],
   "source": [
    "train_images2 = inv_sc.reshape((train_No, 28, 28, 1))\n",
    "test_images2 = inv_sc2.reshape((test_No, 28, 28, 1))"
   ]
  },
  {
   "cell_type": "code",
   "execution_count": 15,
   "id": "13269333-69c9-42d2-842c-c1ba2e8d42fe",
   "metadata": {},
   "outputs": [
    {
     "name": "stdout",
     "output_type": "stream",
     "text": [
      "Model: \"sequential_2\"\n",
      "_________________________________________________________________\n",
      " Layer (type)                Output Shape              Param #   \n",
      "=================================================================\n",
      " conv2d_4 (Conv2D)           (None, 24, 24, 10)        260       \n",
      "                                                                 \n",
      " max_pooling2d_4 (MaxPooling  (None, 12, 12, 10)       0         \n",
      " 2D)                                                             \n",
      "                                                                 \n",
      " conv2d_5 (Conv2D)           (None, 8, 8, 20)          5020      \n",
      "                                                                 \n",
      " max_pooling2d_5 (MaxPooling  (None, 4, 4, 20)         0         \n",
      " 2D)                                                             \n",
      "                                                                 \n",
      " dropout_2 (Dropout)         (None, 4, 4, 20)          0         \n",
      "                                                                 \n",
      " flatten_2 (Flatten)         (None, 320)               0         \n",
      "                                                                 \n",
      " dense_4 (Dense)             (None, 100)               32100     \n",
      "                                                                 \n",
      " dense_5 (Dense)             (None, 10)                1010      \n",
      "                                                                 \n",
      "=================================================================\n",
      "Total params: 38,390\n",
      "Trainable params: 38,390\n",
      "Non-trainable params: 0\n",
      "_________________________________________________________________\n",
      "Epoch 1/5\n",
      "985/985 [==============================] - 7s 6ms/step - loss: 0.8370 - accuracy: 0.8123\n",
      "Epoch 2/5\n",
      "985/985 [==============================] - 3s 3ms/step - loss: 0.1873 - accuracy: 0.9439\n",
      "Epoch 3/5\n",
      "985/985 [==============================] - 5s 5ms/step - loss: 0.1314 - accuracy: 0.9600\n",
      "Epoch 4/5\n",
      "985/985 [==============================] - 3s 3ms/step - loss: 0.1124 - accuracy: 0.9652\n",
      "Epoch 5/5\n",
      "985/985 [==============================] - 3s 3ms/step - loss: 0.0901 - accuracy: 0.9714\n",
      "329/329 - 0s - loss: 0.0794 - accuracy: 0.9768 - 375ms/epoch - 1ms/step\n",
      "\n",
      "Test accuracy: 97.7%\n"
     ]
    }
   ],
   "source": [
    "model_2 = models.Sequential()\n",
    "model_2.add(layers.Conv2D(10, (5, 5), activation='relu', input_shape=(28, 28, 1)))\n",
    "model_2.add(layers.MaxPooling2D((2, 2)))\n",
    "model_2.add(layers.Conv2D(20, (5, 5), activation='relu'))\n",
    "model_2.add(layers.MaxPooling2D((2, 2)))\n",
    "model_2.add(layers.Dropout(0.25))\n",
    " \n",
    "model_2.add(layers.Flatten())\n",
    "model_2.add(layers.Dense(100, activation='relu'))\n",
    "model_2.add(layers.Dense(10, activation='softmax'))\n",
    "model_2.summary()\n",
    " \n",
    "model_2.compile(optimizer='adam',\n",
    "              loss='sparse_categorical_crossentropy',\n",
    "              metrics=['accuracy'])\n",
    " \n",
    "model_2.fit(train_images2, y_train, epochs=5)\n",
    "test_loss, test_acc = model_2.evaluate(test_images2, y_test, verbose=2)\n",
    "print(\"\\nTest accuracy: %.1f%%\" % (100.0 * test_acc))"
   ]
  },
  {
   "cell_type": "markdown",
   "id": "54c0031f-f56a-4dcc-b990-fa15f5f7ac9c",
   "metadata": {},
   "source": [
    "### Normalize"
   ]
  },
  {
   "cell_type": "code",
   "execution_count": 28,
   "id": "681b8961-800a-4682-a189-fea1763b1162",
   "metadata": {},
   "outputs": [],
   "source": [
    "train_images3 = inv_nr.reshape((train_No, 28, 28, 1))\n",
    "test_images3 = inv_nr2.reshape((test_No, 28, 28, 1))"
   ]
  },
  {
   "cell_type": "code",
   "execution_count": 29,
   "id": "20ed8fce-f8cb-4e48-956b-81599fd54a0d",
   "metadata": {},
   "outputs": [
    {
     "name": "stdout",
     "output_type": "stream",
     "text": [
      "Model: \"sequential_3\"\n",
      "_________________________________________________________________\n",
      " Layer (type)                Output Shape              Param #   \n",
      "=================================================================\n",
      " conv2d_6 (Conv2D)           (None, 24, 24, 10)        260       \n",
      "                                                                 \n",
      " max_pooling2d_6 (MaxPooling  (None, 12, 12, 10)       0         \n",
      " 2D)                                                             \n",
      "                                                                 \n",
      " conv2d_7 (Conv2D)           (None, 8, 8, 20)          5020      \n",
      "                                                                 \n",
      " max_pooling2d_7 (MaxPooling  (None, 4, 4, 20)         0         \n",
      " 2D)                                                             \n",
      "                                                                 \n",
      " dropout_3 (Dropout)         (None, 4, 4, 20)          0         \n",
      "                                                                 \n",
      " flatten_3 (Flatten)         (None, 320)               0         \n",
      "                                                                 \n",
      " dense_6 (Dense)             (None, 100)               32100     \n",
      "                                                                 \n",
      " dense_7 (Dense)             (None, 10)                1010      \n",
      "                                                                 \n",
      "=================================================================\n",
      "Total params: 38,390\n",
      "Trainable params: 38,390\n",
      "Non-trainable params: 0\n",
      "_________________________________________________________________\n",
      "Epoch 1/5\n",
      "985/985 [==============================] - 5s 5ms/step - loss: 0.4067 - accuracy: 0.8725\n",
      "Epoch 2/5\n",
      "985/985 [==============================] - 3s 3ms/step - loss: 0.1357 - accuracy: 0.9566\n",
      "Epoch 3/5\n",
      "985/985 [==============================] - 3s 3ms/step - loss: 0.0990 - accuracy: 0.9700\n",
      "Epoch 4/5\n",
      "985/985 [==============================] - 4s 4ms/step - loss: 0.0819 - accuracy: 0.9741\n",
      "Epoch 5/5\n",
      "985/985 [==============================] - 3s 3ms/step - loss: 0.0703 - accuracy: 0.9787\n",
      "329/329 - 0s - loss: 0.0634 - accuracy: 0.9798 - 382ms/epoch - 1ms/step\n",
      "\n",
      "Test accuracy: 98.0%\n"
     ]
    }
   ],
   "source": [
    "model_2 = models.Sequential()\n",
    "model_2.add(layers.Conv2D(10, (5, 5), activation='relu', input_shape=(28, 28, 1)))\n",
    "model_2.add(layers.MaxPooling2D((2, 2)))\n",
    "model_2.add(layers.Conv2D(20, (5, 5), activation='relu'))\n",
    "model_2.add(layers.MaxPooling2D((2, 2)))\n",
    "model_2.add(layers.Dropout(0.25))\n",
    " \n",
    "model_2.add(layers.Flatten())\n",
    "model_2.add(layers.Dense(100, activation='relu'))\n",
    "model_2.add(layers.Dense(10, activation='softmax'))\n",
    "model_2.summary()\n",
    " \n",
    "model_2.compile(optimizer='adam',\n",
    "              loss='sparse_categorical_crossentropy',\n",
    "              metrics=['accuracy'])\n",
    " \n",
    "model_2.fit(train_images3, y_train, epochs=5)\n",
    "test_loss, test_acc = model_2.evaluate(test_images3, y_test, verbose=2)\n",
    "print(\"\\nTest accuracy: %.1f%%\" % (100.0 * test_acc))"
   ]
  }
 ],
 "metadata": {
  "kernelspec": {
   "display_name": "Python 3 (ipykernel)",
   "language": "python",
   "name": "python3"
  },
  "language_info": {
   "codemirror_mode": {
    "name": "ipython",
    "version": 3
   },
   "file_extension": ".py",
   "mimetype": "text/x-python",
   "name": "python",
   "nbconvert_exporter": "python",
   "pygments_lexer": "ipython3",
   "version": "3.9.12"
  },
  "toc-showmarkdowntxt": false,
  "toc-showtags": false
 },
 "nbformat": 4,
 "nbformat_minor": 5
}
